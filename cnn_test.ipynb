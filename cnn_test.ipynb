{
 "cells": [
  {
   "cell_type": "markdown",
   "id": "cc654448",
   "metadata": {},
   "source": [
    "# 🖼️ Convolutional Neural Networks for Multi-Class Classification on CIFAR-10"
   ]
  },
  {
   "cell_type": "code",
   "execution_count": 1,
   "id": "80ed5300",
   "metadata": {},
   "outputs": [],
   "source": [
    "import torch\n",
    "import torch.nn as nn\n",
    "import torch.optim as optim\n",
    "from torch.utils.data import DataLoader\n",
    "from torchvision import datasets, transforms\n",
    "from Architecture import Architecture"
   ]
  },
  {
   "cell_type": "code",
   "execution_count": 2,
   "id": "fcb241ec",
   "metadata": {},
   "outputs": [],
   "source": [
    "# 1. Definição do modelo CNN\n",
    "class CNNClassifier(nn.Module):\n",
    "    def __init__(self):\n",
    "        super(CNNClassifier, self).__init__()\n",
    "        self.features = nn.Sequential(\n",
    "            nn.Conv2d(3, 16, 3, padding=1), nn.ReLU(), nn.MaxPool2d(2),\n",
    "            nn.Conv2d(16, 32, 3, padding=1), nn.ReLU(), nn.MaxPool2d(2),\n",
    "        )\n",
    "        self.classifier = nn.Sequential(\n",
    "            nn.Flatten(),\n",
    "            nn.Linear(32*8*8, 64), nn.ReLU(),\n",
    "            nn.Linear(64, 10)\n",
    "        )\n",
    "\n",
    "\n",
    "    def forward(self, x):\n",
    "        x = self.features(x)\n",
    "        x = self.classifier(x)\n",
    "        return x"
   ]
  },
  {
   "cell_type": "code",
   "execution_count": 3,
   "id": "62b4792b",
   "metadata": {},
   "outputs": [],
   "source": [
    "# 2. Pré‑processamento e DataLoaders\n",
    "transform = transforms.Compose([\n",
    "    transforms.ToTensor(),\n",
    "    transforms.Normalize((0.4914,0.4822,0.4465), (0.247,0.243,0.261))\n",
    "])\n",
    "\n",
    "train_ds = datasets.CIFAR10(root='data/', train=True, download=True, transform=transform)\n",
    "val_ds   = datasets.CIFAR10(root='data/', train=False, download=True, transform=transform)\n",
    "\n",
    "train_loader = DataLoader(train_ds, batch_size=128, shuffle=True, num_workers=4)\n",
    "val_loader   = DataLoader(val_ds,   batch_size=128, shuffle=False, num_workers=4)\n"
   ]
  },
  {
   "cell_type": "code",
   "execution_count": 4,
   "id": "5944ec68",
   "metadata": {},
   "outputs": [],
   "source": [
    "# 3. Instanciando Architecture\n",
    "model     = CNNClassifier()\n",
    "loss_fn   = nn.CrossEntropyLoss()\n",
    "optimizer = optim.Adam(model.parameters(), lr=1e-3, weight_decay=1e-4)"
   ]
  },
  {
   "cell_type": "code",
   "execution_count": 5,
   "id": "d51e7f97",
   "metadata": {},
   "outputs": [],
   "source": [
    "net = Architecture(model, loss_fn, optimizer)\n",
    "net.set_loaders(train_loader, val_loader)"
   ]
  },
  {
   "cell_type": "code",
   "execution_count": 6,
   "id": "9f2b0170",
   "metadata": {},
   "outputs": [],
   "source": [
    "# Agora você pode treinar:\n",
    "net.train(n_epochs=1)"
   ]
  }
 ],
 "metadata": {
  "kernelspec": {
   "display_name": ".venv",
   "language": "python",
   "name": "python3"
  },
  "language_info": {
   "codemirror_mode": {
    "name": "ipython",
    "version": 3
   },
   "file_extension": ".py",
   "mimetype": "text/x-python",
   "name": "python",
   "nbconvert_exporter": "python",
   "pygments_lexer": "ipython3",
   "version": "3.9.6"
  }
 },
 "nbformat": 4,
 "nbformat_minor": 5
}
